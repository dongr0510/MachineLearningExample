{
 "cells": [
  {
   "cell_type": "code",
   "execution_count": 1,
   "metadata": {
    "_cell_guid": "b1076dfc-b9ad-4769-8c92-a6c4dae69d19",
    "_uuid": "8f2839f25d086af736a60e9eeb907d3b93b6e0e5",
    "execution": {
     "iopub.execute_input": "2020-09-16T19:43:30.347710Z",
     "iopub.status.busy": "2020-09-16T19:43:30.346995Z",
     "iopub.status.idle": "2020-09-16T19:43:30.349862Z",
     "shell.execute_reply": "2020-09-16T19:43:30.349210Z"
    },
    "papermill": {
     "duration": 0.030394,
     "end_time": "2020-09-16T19:43:30.349978",
     "exception": false,
     "start_time": "2020-09-16T19:43:30.319584",
     "status": "completed"
    },
    "tags": []
   },
   "outputs": [],
   "source": [
    "# This Python 3 environment comes with many helpful analytics libraries installed\n",
    "# It is defined by the kaggle/python Docker image: https://github.com/kaggle/docker-python\n",
    "# For example, here's several helpful packages to load\n",
    "\n",
    "import numpy as np # linear algebra\n",
    "import pandas as pd # data processing, CSV file I/O (e.g. pd.read_csv)\n",
    "\n",
    "# Input data files are available in the read-only \"../input/\" directory\n",
    "# For example, running this (by clicking run or pressing Shift+Enter) will list all files under the input directory\n",
    "\n",
    "# You can write up to 5GB to the current directory (/kaggle/working/) that gets preserved as output when you create a version using \"Save & Run All\" \n",
    "# You can also write temporary files to /kaggle/temp/, but they won't be saved outside of the current session"
   ]
  },
  {
   "cell_type": "code",
   "execution_count": 2,
   "metadata": {
    "_cell_guid": "79c7e3d0-c299-4dcb-8224-4455121ee9b0",
    "_uuid": "d629ff2d2480ee46fbb7e2d37f6b5fab8052498a",
    "execution": {
     "iopub.execute_input": "2020-09-16T19:43:30.389503Z",
     "iopub.status.busy": "2020-09-16T19:43:30.388880Z",
     "iopub.status.idle": "2020-09-16T19:43:32.613874Z",
     "shell.execute_reply": "2020-09-16T19:43:32.614431Z"
    },
    "papermill": {
     "duration": 2.246171,
     "end_time": "2020-09-16T19:43:32.614601",
     "exception": false,
     "start_time": "2020-09-16T19:43:30.368430",
     "status": "completed"
    },
    "tags": []
   },
   "outputs": [],
   "source": [
    "from sklearn.model_selection import train_test_split\n",
    "from sklearn.metrics import confusion_matrix\n",
    "from sklearn.metrics import roc_auc_score\n",
    "from sklearn.metrics import classification_report\n",
    "from sklearn.datasets import make_multilabel_classification\n",
    "from xgboost import XGBClassifier\n",
    "from sklearn.model_selection import KFold\n",
    "from sklearn.multioutput import MultiOutputClassifier\n",
    "from sklearn.pipeline import Pipeline"
   ]
  },
  {
   "cell_type": "markdown",
   "metadata": {
    "papermill": {
     "duration": 0.017793,
     "end_time": "2020-09-16T19:43:32.651116",
     "exception": false,
     "start_time": "2020-09-16T19:43:32.633323",
     "status": "completed"
    },
    "tags": []
   },
   "source": [
    "# Preparing the data\n",
    "\n",
    "We can generate a multi-output data with a make_multilabel_classification function. The target dataset contains 20 features (x), 5 classes (y), and 10000 samples. \n",
    "\n",
    "We'll define them in the parameters of the function."
   ]
  },
  {
   "cell_type": "code",
   "execution_count": 3,
   "metadata": {
    "execution": {
     "iopub.execute_input": "2020-09-16T19:43:32.701079Z",
     "iopub.status.busy": "2020-09-16T19:43:32.700099Z",
     "iopub.status.idle": "2020-09-16T19:43:33.417937Z",
     "shell.execute_reply": "2020-09-16T19:43:33.417353Z"
    },
    "papermill": {
     "duration": 0.745419,
     "end_time": "2020-09-16T19:43:33.418054",
     "exception": false,
     "start_time": "2020-09-16T19:43:32.672635",
     "status": "completed"
    },
    "tags": []
   },
   "outputs": [],
   "source": [
    "x, y = make_multilabel_classification(n_samples=10000, n_features=20,\n",
    "                                      n_classes=5, random_state=88)"
   ]
  },
  {
   "cell_type": "markdown",
   "metadata": {
    "papermill": {
     "duration": 0.018396,
     "end_time": "2020-09-16T19:43:33.461412",
     "exception": false,
     "start_time": "2020-09-16T19:43:33.443016",
     "status": "completed"
    },
    "tags": []
   },
   "source": [
    "The generated data looks as below. There are 20 features and 5 labels in this dataset."
   ]
  },
  {
   "cell_type": "code",
   "execution_count": 4,
   "metadata": {
    "execution": {
     "iopub.execute_input": "2020-09-16T19:43:33.506752Z",
     "iopub.status.busy": "2020-09-16T19:43:33.505280Z",
     "iopub.status.idle": "2020-09-16T19:43:33.513337Z",
     "shell.execute_reply": "2020-09-16T19:43:33.513914Z"
    },
    "papermill": {
     "duration": 0.0343,
     "end_time": "2020-09-16T19:43:33.514079",
     "exception": false,
     "start_time": "2020-09-16T19:43:33.479779",
     "status": "completed"
    },
    "tags": []
   },
   "outputs": [
    {
     "name": "stdout",
     "output_type": "stream",
     "text": [
      "[5. 4. 0. 4. 3. 0. 1. 1. 0. 3. 0. 1. 6. 0. 0. 2. 0. 1. 6. 1.]  =====>  [1 0 0 0 0]\n",
      "[2. 2. 0. 1. 5. 1. 2. 0. 7. 4. 1. 0. 2. 1. 5. 2. 0. 4. 0. 6.]  =====>  [0 0 0 0 1]\n",
      "[3. 4. 2. 1. 4. 5. 2. 2. 4. 1. 1. 2. 3. 5. 2. 3. 0. 4. 5. 2.]  =====>  [0 1 0 1 0]\n",
      "[0. 5. 2. 3. 2. 3. 7. 4. 4. 1. 3. 0. 5. 5. 2. 1. 3. 3. 2. 3.]  =====>  [0 0 0 0 0]\n",
      "[3. 6. 2. 3. 2. 0. 1. 3. 2. 4. 0. 0. 3. 4. 1. 6. 0. 5. 0. 8.]  =====>  [1 0 0 0 1]\n"
     ]
    }
   ],
   "source": [
    "for i in range(5): \n",
    "    print(x[i],\" =====> \", y[i])"
   ]
  },
  {
   "cell_type": "markdown",
   "metadata": {
    "papermill": {
     "duration": 0.019326,
     "end_time": "2020-09-16T19:43:33.552599",
     "exception": false,
     "start_time": "2020-09-16T19:43:33.533273",
     "status": "completed"
    },
    "tags": []
   },
   "source": [
    "## Next, we'll split the data into the train and test parts."
   ]
  },
  {
   "cell_type": "code",
   "execution_count": 5,
   "metadata": {
    "execution": {
     "iopub.execute_input": "2020-09-16T19:43:33.599471Z",
     "iopub.status.busy": "2020-09-16T19:43:33.598251Z",
     "iopub.status.idle": "2020-09-16T19:43:33.605722Z",
     "shell.execute_reply": "2020-09-16T19:43:33.605186Z"
    },
    "papermill": {
     "duration": 0.034293,
     "end_time": "2020-09-16T19:43:33.605845",
     "exception": false,
     "start_time": "2020-09-16T19:43:33.571552",
     "status": "completed"
    },
    "tags": []
   },
   "outputs": [
    {
     "name": "stdout",
     "output_type": "stream",
     "text": [
      "2000\n"
     ]
    }
   ],
   "source": [
    "xtrain, xtest, ytrain, ytest=train_test_split(x, y, train_size=0.8, random_state=88)\n",
    "print(len(xtest)) "
   ]
  },
  {
   "cell_type": "markdown",
   "metadata": {
    "papermill": {
     "duration": 0.020448,
     "end_time": "2020-09-16T19:43:33.645725",
     "exception": false,
     "start_time": "2020-09-16T19:43:33.625277",
     "status": "completed"
    },
    "tags": []
   },
   "source": [
    "## Defining the model"
   ]
  },
  {
   "cell_type": "markdown",
   "metadata": {
    "papermill": {
     "duration": 0.018959,
     "end_time": "2020-09-16T19:43:33.684307",
     "exception": false,
     "start_time": "2020-09-16T19:43:33.665348",
     "status": "completed"
    },
    "tags": []
   },
   "source": [
    "We'll define the model with the MultiOutputClassifier class of sklearn. As an estimator, we'll use XGBClassifier and then we'll include the estimator into the MultiOutputClassifier class."
   ]
  },
  {
   "cell_type": "code",
   "execution_count": 6,
   "metadata": {
    "execution": {
     "iopub.execute_input": "2020-09-16T19:43:33.729945Z",
     "iopub.status.busy": "2020-09-16T19:43:33.729120Z",
     "iopub.status.idle": "2020-09-16T19:43:33.741540Z",
     "shell.execute_reply": "2020-09-16T19:43:33.740862Z"
    },
    "papermill": {
     "duration": 0.037782,
     "end_time": "2020-09-16T19:43:33.741677",
     "exception": false,
     "start_time": "2020-09-16T19:43:33.703895",
     "status": "completed"
    },
    "tags": []
   },
   "outputs": [
    {
     "name": "stdout",
     "output_type": "stream",
     "text": [
      "0 (array([1600, 1601, 1602, ..., 7997, 7998, 7999]), array([   0,    1,    2, ..., 1597, 1598, 1599]))\n",
      "1 (array([   0,    1,    2, ..., 7997, 7998, 7999]), array([1600, 1601, 1602, ..., 3197, 3198, 3199]))\n",
      "2 (array([   0,    1,    2, ..., 7997, 7998, 7999]), array([3200, 3201, 3202, ..., 4797, 4798, 4799]))\n",
      "3 (array([   0,    1,    2, ..., 7997, 7998, 7999]), array([4800, 4801, 4802, ..., 6397, 6398, 6399]))\n",
      "4 (array([   0,    1,    2, ..., 6397, 6398, 6399]), array([6400, 6401, 6402, ..., 7997, 7998, 7999]))\n"
     ]
    }
   ],
   "source": [
    "kf = KFold(n_splits=5)\n",
    "for fn, (trn_idx, val_idx) in enumerate(kf.split(xtrain, ytrain)):\n",
    "    print (fn, (trn_idx, val_idx))"
   ]
  },
  {
   "cell_type": "code",
   "execution_count": 7,
   "metadata": {
    "execution": {
     "iopub.execute_input": "2020-09-16T19:43:33.792844Z",
     "iopub.status.busy": "2020-09-16T19:43:33.791931Z",
     "iopub.status.idle": "2020-09-16T19:43:33.795126Z",
     "shell.execute_reply": "2020-09-16T19:43:33.794409Z"
    },
    "papermill": {
     "duration": 0.031204,
     "end_time": "2020-09-16T19:43:33.795248",
     "exception": false,
     "start_time": "2020-09-16T19:43:33.764044",
     "status": "completed"
    },
    "tags": []
   },
   "outputs": [],
   "source": [
    "classifier = MultiOutputClassifier(XGBClassifier())\n",
    "\n",
    "clf = Pipeline([('classify', classifier)\n",
    "               ])"
   ]
  },
  {
   "cell_type": "markdown",
   "metadata": {
    "papermill": {
     "duration": 0.019509,
     "end_time": "2020-09-16T19:43:33.836324",
     "exception": false,
     "start_time": "2020-09-16T19:43:33.816815",
     "status": "completed"
    },
    "tags": []
   },
   "source": [
    "#### We'll fit the model with training data and check the training accuracy."
   ]
  },
  {
   "cell_type": "code",
   "execution_count": 8,
   "metadata": {
    "execution": {
     "iopub.execute_input": "2020-09-16T19:43:33.881942Z",
     "iopub.status.busy": "2020-09-16T19:43:33.881236Z",
     "iopub.status.idle": "2020-09-16T19:43:36.715705Z",
     "shell.execute_reply": "2020-09-16T19:43:36.716347Z"
    },
    "papermill": {
     "duration": 2.860225,
     "end_time": "2020-09-16T19:43:36.716540",
     "exception": false,
     "start_time": "2020-09-16T19:43:33.856315",
     "status": "completed"
    },
    "tags": []
   },
   "outputs": [
    {
     "name": "stdout",
     "output_type": "stream",
     "text": [
      "0.913875\n"
     ]
    }
   ],
   "source": [
    "clf.fit(xtrain, ytrain)\n",
    "print(clf.score(xtrain, ytrain))"
   ]
  },
  {
   "cell_type": "markdown",
   "metadata": {
    "papermill": {
     "duration": 0.026212,
     "end_time": "2020-09-16T19:43:36.770260",
     "exception": false,
     "start_time": "2020-09-16T19:43:36.744048",
     "status": "completed"
    },
    "tags": []
   },
   "source": [
    "## Predicting and accuracy check"
   ]
  },
  {
   "cell_type": "code",
   "execution_count": 9,
   "metadata": {
    "execution": {
     "iopub.execute_input": "2020-09-16T19:43:36.832582Z",
     "iopub.status.busy": "2020-09-16T19:43:36.831454Z",
     "iopub.status.idle": "2020-09-16T19:43:36.863889Z",
     "shell.execute_reply": "2020-09-16T19:43:36.864695Z"
    },
    "papermill": {
     "duration": 0.067471,
     "end_time": "2020-09-16T19:43:36.864885",
     "exception": false,
     "start_time": "2020-09-16T19:43:36.797414",
     "status": "completed"
    },
    "tags": []
   },
   "outputs": [],
   "source": [
    "# We'll predict the test data.\n",
    "\n",
    "yhat = clf.predict(xtest)"
   ]
  },
  {
   "cell_type": "markdown",
   "metadata": {
    "papermill": {
     "duration": 0.028544,
     "end_time": "2020-09-16T19:43:36.921330",
     "exception": false,
     "start_time": "2020-09-16T19:43:36.892786",
     "status": "completed"
    },
    "tags": []
   },
   "source": [
    "We'll check the numbers of accuracy metrics for this prediction. Remember, we have five output labels in the ytest and the yhat data, thus we need to use them accordingly.\n",
    "\n",
    "First, we'll check the area under the ROC with the roc_auc_score function."
   ]
  },
  {
   "cell_type": "code",
   "execution_count": 10,
   "metadata": {
    "execution": {
     "iopub.execute_input": "2020-09-16T19:43:36.989527Z",
     "iopub.status.busy": "2020-09-16T19:43:36.988379Z",
     "iopub.status.idle": "2020-09-16T19:43:37.003333Z",
     "shell.execute_reply": "2020-09-16T19:43:37.004106Z"
    },
    "papermill": {
     "duration": 0.054617,
     "end_time": "2020-09-16T19:43:37.004294",
     "exception": false,
     "start_time": "2020-09-16T19:43:36.949677",
     "status": "completed"
    },
    "tags": []
   },
   "outputs": [
    {
     "name": "stdout",
     "output_type": "stream",
     "text": [
      "ROC AUC y1: 0.8230, y2: 0.8025, y3: 0.8091, y4: 0.8005, y5: 0.8086\n"
     ]
    }
   ],
   "source": [
    "auc_y1 = roc_auc_score(ytest[:,0],yhat[:,0])\n",
    "auc_y2 = roc_auc_score(ytest[:,1],yhat[:,1])\n",
    "auc_y3 = roc_auc_score(ytest[:,2],yhat[:,2])\n",
    "auc_y4 = roc_auc_score(ytest[:,3],yhat[:,3])\n",
    "auc_y5 = roc_auc_score(ytest[:,4],yhat[:,4])\n",
    "\n",
    "print(\"ROC AUC y1: %.4f, y2: %.4f, y3: %.4f, y4: %.4f, y5: %.4f\" % (auc_y1, auc_y2, auc_y3, auc_y4, auc_y5))"
   ]
  },
  {
   "cell_type": "markdown",
   "metadata": {
    "papermill": {
     "duration": 0.028226,
     "end_time": "2020-09-16T19:43:37.061214",
     "exception": false,
     "start_time": "2020-09-16T19:43:37.032988",
     "status": "completed"
    },
    "tags": []
   },
   "source": [
    "The second method is to check the confusion matrics."
   ]
  },
  {
   "cell_type": "code",
   "execution_count": 11,
   "metadata": {
    "execution": {
     "iopub.execute_input": "2020-09-16T19:43:37.113587Z",
     "iopub.status.busy": "2020-09-16T19:43:37.112455Z",
     "iopub.status.idle": "2020-09-16T19:43:37.136248Z",
     "shell.execute_reply": "2020-09-16T19:43:37.136900Z"
    },
    "papermill": {
     "duration": 0.053681,
     "end_time": "2020-09-16T19:43:37.137064",
     "exception": false,
     "start_time": "2020-09-16T19:43:37.083383",
     "status": "completed"
    },
    "tags": []
   },
   "outputs": [],
   "source": [
    "cm_y1 = confusion_matrix(ytest[:,0],yhat[:,0])\n",
    "cm_y2 = confusion_matrix(ytest[:,1],yhat[:,1])\n",
    "cm_y3 = confusion_matrix(ytest[:,2],yhat[:,2])\n",
    "cm_y4 = confusion_matrix(ytest[:,3],yhat[:,3])\n",
    "cm_y5 = confusion_matrix(ytest[:,4],yhat[:,4])"
   ]
  },
  {
   "cell_type": "code",
   "execution_count": 12,
   "metadata": {
    "execution": {
     "iopub.execute_input": "2020-09-16T19:43:37.183391Z",
     "iopub.status.busy": "2020-09-16T19:43:37.182389Z",
     "iopub.status.idle": "2020-09-16T19:43:37.189113Z",
     "shell.execute_reply": "2020-09-16T19:43:37.188533Z"
    },
    "papermill": {
     "duration": 0.030978,
     "end_time": "2020-09-16T19:43:37.189224",
     "exception": false,
     "start_time": "2020-09-16T19:43:37.158246",
     "status": "completed"
    },
    "tags": []
   },
   "outputs": [
    {
     "name": "stdout",
     "output_type": "stream",
     "text": [
      "[[1053  140]\n",
      " [ 191  616]]\n"
     ]
    }
   ],
   "source": [
    "print(cm_y1)"
   ]
  },
  {
   "cell_type": "code",
   "execution_count": 13,
   "metadata": {
    "execution": {
     "iopub.execute_input": "2020-09-16T19:43:37.238709Z",
     "iopub.status.busy": "2020-09-16T19:43:37.237690Z",
     "iopub.status.idle": "2020-09-16T19:43:37.241088Z",
     "shell.execute_reply": "2020-09-16T19:43:37.241823Z"
    },
    "papermill": {
     "duration": 0.030969,
     "end_time": "2020-09-16T19:43:37.242014",
     "exception": false,
     "start_time": "2020-09-16T19:43:37.211045",
     "status": "completed"
    },
    "tags": []
   },
   "outputs": [
    {
     "name": "stdout",
     "output_type": "stream",
     "text": [
      "[[1189  150]\n",
      " [ 187  474]]\n"
     ]
    }
   ],
   "source": [
    "print (cm_y2)"
   ]
  },
  {
   "cell_type": "code",
   "execution_count": 14,
   "metadata": {
    "execution": {
     "iopub.execute_input": "2020-09-16T19:43:37.293402Z",
     "iopub.status.busy": "2020-09-16T19:43:37.292731Z",
     "iopub.status.idle": "2020-09-16T19:43:37.297191Z",
     "shell.execute_reply": "2020-09-16T19:43:37.295672Z"
    },
    "papermill": {
     "duration": 0.031267,
     "end_time": "2020-09-16T19:43:37.297332",
     "exception": false,
     "start_time": "2020-09-16T19:43:37.266065",
     "status": "completed"
    },
    "tags": []
   },
   "outputs": [
    {
     "name": "stdout",
     "output_type": "stream",
     "text": [
      "[[1163  100]\n",
      " [ 223  514]]\n"
     ]
    }
   ],
   "source": [
    "print (cm_y3)"
   ]
  },
  {
   "cell_type": "code",
   "execution_count": 15,
   "metadata": {
    "execution": {
     "iopub.execute_input": "2020-09-16T19:43:37.348567Z",
     "iopub.status.busy": "2020-09-16T19:43:37.347738Z",
     "iopub.status.idle": "2020-09-16T19:43:37.351395Z",
     "shell.execute_reply": "2020-09-16T19:43:37.350824Z"
    },
    "papermill": {
     "duration": 0.031309,
     "end_time": "2020-09-16T19:43:37.351537",
     "exception": false,
     "start_time": "2020-09-16T19:43:37.320228",
     "status": "completed"
    },
    "tags": []
   },
   "outputs": [
    {
     "name": "stdout",
     "output_type": "stream",
     "text": [
      "[[863 206]\n",
      " [192 739]]\n"
     ]
    }
   ],
   "source": [
    "print (cm_y4)"
   ]
  },
  {
   "cell_type": "code",
   "execution_count": 16,
   "metadata": {
    "execution": {
     "iopub.execute_input": "2020-09-16T19:43:37.403312Z",
     "iopub.status.busy": "2020-09-16T19:43:37.402636Z",
     "iopub.status.idle": "2020-09-16T19:43:37.407251Z",
     "shell.execute_reply": "2020-09-16T19:43:37.406321Z"
    },
    "papermill": {
     "duration": 0.032714,
     "end_time": "2020-09-16T19:43:37.407404",
     "exception": false,
     "start_time": "2020-09-16T19:43:37.374690",
     "status": "completed"
    },
    "tags": []
   },
   "outputs": [
    {
     "name": "stdout",
     "output_type": "stream",
     "text": [
      "[[1016  158]\n",
      " [ 205  621]]\n"
     ]
    }
   ],
   "source": [
    "print (cm_y5)"
   ]
  },
  {
   "cell_type": "markdown",
   "metadata": {
    "papermill": {
     "duration": 0.023321,
     "end_time": "2020-09-16T19:43:37.455765",
     "exception": false,
     "start_time": "2020-09-16T19:43:37.432444",
     "status": "completed"
    },
    "tags": []
   },
   "source": [
    "Finally, we'll check the classification report with the classification_report function."
   ]
  },
  {
   "cell_type": "code",
   "execution_count": 17,
   "metadata": {
    "execution": {
     "iopub.execute_input": "2020-09-16T19:43:37.510764Z",
     "iopub.status.busy": "2020-09-16T19:43:37.510098Z",
     "iopub.status.idle": "2020-09-16T19:43:37.547545Z",
     "shell.execute_reply": "2020-09-16T19:43:37.546791Z"
    },
    "papermill": {
     "duration": 0.068313,
     "end_time": "2020-09-16T19:43:37.547683",
     "exception": false,
     "start_time": "2020-09-16T19:43:37.479370",
     "status": "completed"
    },
    "tags": []
   },
   "outputs": [],
   "source": [
    "cr_y1 = classification_report(ytest[:,0],yhat[:,0])\n",
    "cr_y2 = classification_report(ytest[:,1],yhat[:,1])\n",
    "cr_y3 = classification_report(ytest[:,2],yhat[:,2])\n",
    "cr_y4 = classification_report(ytest[:,3],yhat[:,3])\n",
    "cr_y5 = classification_report(ytest[:,4],yhat[:,4])"
   ]
  },
  {
   "cell_type": "code",
   "execution_count": 18,
   "metadata": {
    "execution": {
     "iopub.execute_input": "2020-09-16T19:43:37.600739Z",
     "iopub.status.busy": "2020-09-16T19:43:37.600029Z",
     "iopub.status.idle": "2020-09-16T19:43:37.605951Z",
     "shell.execute_reply": "2020-09-16T19:43:37.605423Z"
    },
    "papermill": {
     "duration": 0.034351,
     "end_time": "2020-09-16T19:43:37.606078",
     "exception": false,
     "start_time": "2020-09-16T19:43:37.571727",
     "status": "completed"
    },
    "tags": []
   },
   "outputs": [
    {
     "name": "stdout",
     "output_type": "stream",
     "text": [
      "              precision    recall  f1-score   support\n",
      "\n",
      "           0       0.85      0.88      0.86      1193\n",
      "           1       0.81      0.76      0.79       807\n",
      "\n",
      "    accuracy                           0.83      2000\n",
      "   macro avg       0.83      0.82      0.83      2000\n",
      "weighted avg       0.83      0.83      0.83      2000\n",
      "\n"
     ]
    }
   ],
   "source": [
    "print (cr_y1)"
   ]
  },
  {
   "cell_type": "code",
   "execution_count": 19,
   "metadata": {
    "execution": {
     "iopub.execute_input": "2020-09-16T19:43:37.660588Z",
     "iopub.status.busy": "2020-09-16T19:43:37.659868Z",
     "iopub.status.idle": "2020-09-16T19:43:37.662631Z",
     "shell.execute_reply": "2020-09-16T19:43:37.663163Z"
    },
    "papermill": {
     "duration": 0.031965,
     "end_time": "2020-09-16T19:43:37.663306",
     "exception": false,
     "start_time": "2020-09-16T19:43:37.631341",
     "status": "completed"
    },
    "tags": []
   },
   "outputs": [
    {
     "name": "stdout",
     "output_type": "stream",
     "text": [
      "              precision    recall  f1-score   support\n",
      "\n",
      "           0       0.86      0.89      0.88      1339\n",
      "           1       0.76      0.72      0.74       661\n",
      "\n",
      "    accuracy                           0.83      2000\n",
      "   macro avg       0.81      0.80      0.81      2000\n",
      "weighted avg       0.83      0.83      0.83      2000\n",
      "\n"
     ]
    }
   ],
   "source": [
    "print (cr_y2)"
   ]
  },
  {
   "cell_type": "markdown",
   "metadata": {
    "papermill": {
     "duration": 0.024231,
     "end_time": "2020-09-16T19:43:37.712552",
     "exception": false,
     "start_time": "2020-09-16T19:43:37.688321",
     "status": "completed"
    },
    "tags": []
   },
   "source": [
    "In this tutorial, we've briefly learned how to classify multi-output data with MultiOutputClassifier in Python.\n"
   ]
  },
  {
   "cell_type": "code",
   "execution_count": null,
   "metadata": {
    "papermill": {
     "duration": 0.02439,
     "end_time": "2020-09-16T19:43:37.762171",
     "exception": false,
     "start_time": "2020-09-16T19:43:37.737781",
     "status": "completed"
    },
    "tags": []
   },
   "outputs": [],
   "source": []
  }
 ],
 "metadata": {
  "kernelspec": {
   "display_name": "Python 3",
   "language": "python",
   "name": "python3"
  },
  "language_info": {
   "codemirror_mode": {
    "name": "ipython",
    "version": 3
   },
   "file_extension": ".py",
   "mimetype": "text/x-python",
   "name": "python",
   "nbconvert_exporter": "python",
   "pygments_lexer": "ipython3",
   "version": "3.7.6"
  },
  "papermill": {
   "duration": 12.609328,
   "end_time": "2020-09-16T19:43:37.896096",
   "environment_variables": {},
   "exception": null,
   "input_path": "__notebook__.ipynb",
   "output_path": "__notebook__.ipynb",
   "parameters": {},
   "start_time": "2020-09-16T19:43:25.286768",
   "version": "2.1.0"
  }
 },
 "nbformat": 4,
 "nbformat_minor": 4
}
